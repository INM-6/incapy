{
 "cells": [
  {
   "cell_type": "markdown",
   "metadata": {},
   "source": [
    "# incapy - Interactive Neural Correlation Analyzer for Python\n"
   ]
  },
  {
   "cell_type": "markdown",
   "metadata": {},
   "source": [
    "First, make the path availabe and import incapy\n"
   ]
  },
  {
   "cell_type": "code",
   "execution_count": 4,
   "metadata": {},
   "outputs": [],
   "source": [
    "import sys\n",
    "sys.path.append(\"..\")\n",
    "import incapy as inc"
   ]
  },
  {
   "cell_type": "markdown",
   "metadata": {},
   "source": [
    "Instantiate the class, and specify the file to the data."
   ]
  },
  {
   "cell_type": "code",
   "execution_count": 5,
   "metadata": {},
   "outputs": [
    {
     "name": "stdout",
     "output_type": "stream",
     "text": [
      "[0. 0.]\n"
     ]
    }
   ],
   "source": [
    "inc = inc.Incapy(filename=\"example_data/corr_data.h5\")"
   ]
  },
  {
   "cell_type": "code",
   "execution_count": 6,
   "metadata": {},
   "outputs": [
    {
     "data": {
      "application/vnd.jupyter.widget-view+json": {
       "model_id": "48ec2d55483b40d0b3176c53e89259b4",
       "version_major": 2,
       "version_minor": 0
      },
      "text/plain": [
       "HBox(children=(Button(description='Start', style=ButtonStyle()), Button(description='Stop', style=ButtonStyle(…"
      ]
     },
     "metadata": {},
     "output_type": "display_data"
    },
    {
     "data": {
      "application/javascript": [
       "\n",
       "// Ugly hack - see HoloViews #2574 for more information\n",
       "if (!(document.getElementById('1521')) && !(document.getElementById('_anim_imgNone'))) {\n",
       "  console.log(\"Creating DOM nodes dynamically for assumed nbconvert export. To generate clean HTML output set HV_DOC_HTML as an environment variable.\")\n",
       "  var htmlObject = document.createElement('div');\n",
       "  htmlObject.innerHTML = `<div id='1521' style='display: table; margin: 0 auto;'>\n",
       "    <div id=\"fig_1521\">\n",
       "      \n",
       "\n",
       "\n",
       "\n",
       "\n",
       "\n",
       "  <div class=\"bk-root\" id=\"e58a1ab1-33e3-426b-9d0a-0281138c6d77\" data-root-id=\"1521\"></div>\n",
       "\n",
       "    </div>\n",
       "    </div>`;\n",
       "  var scriptTags = document.getElementsByTagName('script');\n",
       "  var parentTag = scriptTags[scriptTags.length-1].parentNode;\n",
       "  if (parentTag.attributes.length && (parentTag.attributes[0].name == 'data-shell-mode')) {\n",
       "    alert('Displaying PyViz objects in JupyterLab requires the jupyterlab_pyviz extension to be installed, install it with:\\n\\n\\tjupyter labextension install @pyviz/jupyterlab_pyviz');\n",
       "  } else {\n",
       "    parentTag.append(htmlObject)\n",
       "  }\n",
       "}\n",
       "(function(root) {\n",
       "  function embed_document(root) {\n",
       "    \n",
       "  var docs_json = {\"a20ff2a0-49c5-4c9d-9bff-c1e3af9bb315\":{\"roots\":{\"references\":[{\"attributes\":{\"below\":[{\"id\":\"1529\",\"type\":\"LinearAxis\"}],\"left\":[{\"id\":\"1534\",\"type\":\"LinearAxis\"}],\"min_border_bottom\":10,\"min_border_left\":10,\"min_border_right\":10,\"min_border_top\":10,\"plot_height\":400,\"plot_width\":400,\"renderers\":[{\"id\":\"1529\",\"type\":\"LinearAxis\"},{\"id\":\"1533\",\"type\":\"Grid\"},{\"id\":\"1534\",\"type\":\"LinearAxis\"},{\"id\":\"1538\",\"type\":\"Grid\"},{\"id\":\"1550\",\"type\":\"BoxAnnotation\"},{\"id\":\"1554\",\"type\":\"BoxAnnotation\"},{\"id\":\"1557\",\"type\":\"PolyAnnotation\"},{\"id\":\"1576\",\"type\":\"GraphRenderer\"}],\"title\":{\"id\":\"1520\",\"type\":\"Title\"},\"toolbar\":{\"id\":\"1547\",\"type\":\"Toolbar\"},\"x_range\":{\"id\":\"1518\",\"type\":\"Range1d\"},\"x_scale\":{\"id\":\"1525\",\"type\":\"LinearScale\"},\"y_range\":{\"id\":\"1519\",\"type\":\"Range1d\"},\"y_scale\":{\"id\":\"1527\",\"type\":\"LinearScale\"}},\"id\":\"1521\",\"subtype\":\"Figure\",\"type\":\"Plot\"},{\"attributes\":{},\"id\":\"1525\",\"type\":\"LinearScale\"},{\"attributes\":{\"dimension\":1,\"grid_line_color\":{\"value\":null},\"plot\":{\"id\":\"1521\",\"subtype\":\"Figure\",\"type\":\"Plot\"},\"ticker\":{\"id\":\"1535\",\"type\":\"BasicTicker\"}},\"id\":\"1538\",\"type\":\"Grid\"},{\"attributes\":{\"line_width\":{\"value\":2}},\"id\":\"1571\",\"type\":\"MultiLine\"},{\"attributes\":{},\"id\":\"1604\",\"type\":\"UnionRenderers\"},{\"attributes\":{},\"id\":\"1527\",\"type\":\"LinearScale\"},{\"attributes\":{\"line_color\":{\"value\":\"limegreen\"},\"line_width\":{\"value\":2}},\"id\":\"1573\",\"type\":\"MultiLine\"},{\"attributes\":{},\"id\":\"1543\",\"type\":\"ResetTool\"},{\"attributes\":{\"bottom_units\":\"screen\",\"fill_alpha\":{\"value\":0.5},\"fill_color\":{\"value\":\"lightgrey\"},\"left_units\":\"screen\",\"level\":\"overlay\",\"line_alpha\":{\"value\":1.0},\"line_color\":{\"value\":\"black\"},\"line_dash\":[4,4],\"line_width\":{\"value\":2},\"plot\":null,\"render_mode\":\"css\",\"right_units\":\"screen\",\"top_units\":\"screen\"},\"id\":\"1554\",\"type\":\"BoxAnnotation\"},{\"attributes\":{\"data_source\":{\"id\":\"1564\",\"type\":\"ColumnDataSource\"},\"glyph\":{\"id\":\"1571\",\"type\":\"MultiLine\"},\"hover_glyph\":{\"id\":\"1573\",\"type\":\"MultiLine\"},\"muted_glyph\":null,\"nonselection_glyph\":{\"id\":\"1572\",\"type\":\"MultiLine\"},\"selection_glyph\":null,\"view\":{\"id\":\"1575\",\"type\":\"CDSView\"}},\"id\":\"1574\",\"type\":\"GlyphRenderer\"},{\"attributes\":{\"line_alpha\":{\"value\":0.2},\"line_width\":{\"value\":2}},\"id\":\"1572\",\"type\":\"MultiLine\"},{\"attributes\":{},\"id\":\"1540\",\"type\":\"PanTool\"},{\"attributes\":{\"source\":{\"id\":\"1564\",\"type\":\"ColumnDataSource\"}},\"id\":\"1575\",\"type\":\"CDSView\"},{\"attributes\":{},\"id\":\"1530\",\"type\":\"BasicTicker\"},{\"attributes\":{\"edge_renderer\":{\"id\":\"1574\",\"type\":\"GlyphRenderer\"},\"inspection_policy\":{\"id\":\"1587\",\"type\":\"NodesAndLinkedEdges\"},\"layout_provider\":{\"id\":\"1565\",\"type\":\"StaticLayoutProvider\"},\"node_renderer\":{\"id\":\"1569\",\"type\":\"GlyphRenderer\"},\"selection_policy\":{\"id\":\"1585\",\"type\":\"NodesAndLinkedEdges\"}},\"id\":\"1576\",\"type\":\"GraphRenderer\"},{\"attributes\":{},\"id\":\"1585\",\"type\":\"NodesAndLinkedEdges\"},{\"attributes\":{\"factors\":[\"0\",\"1\",\"2\",\"3\",\"4\",\"5\",\"6\",\"7\",\"8\",\"9\",\"10\",\"11\",\"12\",\"13\",\"14\",\"15\",\"16\",\"17\",\"18\",\"19\",\"20\",\"21\",\"22\",\"23\",\"24\",\"25\",\"26\",\"27\",\"28\",\"29\",\"30\",\"31\",\"32\",\"33\",\"34\",\"35\",\"36\",\"37\",\"38\",\"39\",\"40\",\"41\",\"42\",\"43\",\"44\",\"45\",\"46\",\"47\",\"48\",\"49\",\"50\",\"51\",\"52\",\"53\",\"54\",\"55\",\"56\",\"57\",\"58\",\"59\",\"60\",\"61\",\"62\",\"63\",\"64\",\"65\",\"66\",\"67\",\"68\",\"69\",\"70\",\"71\",\"72\",\"73\",\"74\",\"75\",\"76\",\"77\",\"78\",\"79\",\"80\",\"81\",\"82\",\"83\",\"84\",\"85\",\"86\",\"87\",\"88\",\"89\",\"90\",\"91\",\"92\",\"93\",\"94\",\"95\",\"96\",\"97\",\"98\",\"99\"],\"palette\":[\"#0076fc\",\"#0074d8\",\"#0072b6\",\"#007194\",\"#007073\",\"#007052\",\"#006f30\",\"#006f00\",\"#006f00\",\"#006f00\",\"#0074fc\",\"#0072d8\",\"#0070b6\",\"#006f94\",\"#006e73\",\"#006d53\",\"#006c30\",\"#006c00\",\"#006c00\",\"#006c00\",\"#0070fc\",\"#006ed8\",\"#006cb6\",\"#006b94\",\"#006a73\",\"#006953\",\"#006931\",\"#006800\",\"#006800\",\"#006800\",\"#006cfc\",\"#0069d9\",\"#0068b6\",\"#006695\",\"#006574\",\"#006453\",\"#006432\",\"#006302\",\"#0f6300\",\"#196300\",\"#0066fc\",\"#0063d9\",\"#0061b6\",\"#006095\",\"#005e74\",\"#2a5e54\",\"#3a5d33\",\"#425d06\",\"#455d00\",\"#485c00\",\"#005efc\",\"#005bd9\",\"#0059b7\",\"#225795\",\"#455675\",\"#555555\",\"#5d5434\",\"#61540b\",\"#635400\",\"#655300\",\"#0053fc\",\"#0050d9\",\"#364db7\",\"#574b96\",\"#684975\",\"#724855\",\"#784836\",\"#7c4710\",\"#7d4700\",\"#7f4700\",\"#0044fd\",\"#413fd9\",\"#653cb7\",\"#793996\",\"#853776\",\"#8c3556\",\"#913437\",\"#933415\",\"#953300\",\"#963300\",\"#472afd\",\"#7022da\",\"#861bb8\",\"#951497\",\"#9e0d77\",\"#a40658\",\"#a80239\",\"#aa0019\",\"#ab0000\",\"#ac0000\",\"#7800fd\",\"#9200da\",\"#a300b8\",\"#ae0097\",\"#b60077\",\"#bb0059\",\"#be003b\",\"#c0001e\",\"#c10000\",\"#c20000\"]},\"id\":\"1562\",\"type\":\"CategoricalColorMapper\"},{\"attributes\":{},\"id\":\"1602\",\"type\":\"UnionRenderers\"},{\"attributes\":{\"grid_line_color\":{\"value\":null},\"plot\":{\"id\":\"1521\",\"subtype\":\"Figure\",\"type\":\"Plot\"},\"ticker\":{\"id\":\"1530\",\"type\":\"BasicTicker\"}},\"id\":\"1533\",\"type\":\"Grid\"},{\"attributes\":{},\"id\":\"1541\",\"type\":\"WheelZoomTool\"},{\"attributes\":{},\"id\":\"1590\",\"type\":\"BasicTickFormatter\"},{\"attributes\":{\"callback\":null,\"overlay\":{\"id\":\"1557\",\"type\":\"PolyAnnotation\"}},\"id\":\"1545\",\"type\":\"LassoSelectTool\"},{\"attributes\":{},\"id\":\"1592\",\"type\":\"BasicTickFormatter\"},{\"attributes\":{\"plot\":null,\"text\":\"\",\"text_color\":{\"value\":\"black\"},\"text_font_size\":{\"value\":\"12pt\"}},\"id\":\"1520\",\"type\":\"Title\"},{\"attributes\":{\"overlay\":{\"id\":\"1550\",\"type\":\"BoxAnnotation\"}},\"id\":\"1542\",\"type\":\"BoxZoomTool\"},{\"attributes\":{},\"id\":\"1587\",\"type\":\"NodesAndLinkedEdges\"},{\"attributes\":{\"graph_layout\":{\"0\":[0.0,0.0],\"1\":[0.0,1.0],\"10\":[1.0,0.0],\"11\":[1.0,1.0],\"12\":[1.0,2.0],\"13\":[1.0,3.0],\"14\":[1.0,4.0],\"15\":[1.0,5.0],\"16\":[1.0,6.0],\"17\":[1.0,7.0],\"18\":[1.0,8.0],\"19\":[1.0,9.0],\"2\":[0.0,2.0],\"20\":[2.0,0.0],\"21\":[2.0,1.0],\"22\":[2.0,2.0],\"23\":[2.0,3.0],\"24\":[2.0,4.0],\"25\":[2.0,5.0],\"26\":[2.0,6.0],\"27\":[2.0,7.0],\"28\":[2.0,8.0],\"29\":[2.0,9.0],\"3\":[0.0,3.0],\"30\":[3.0,0.0],\"31\":[3.0,1.0],\"32\":[3.0,2.0],\"33\":[3.0,3.0],\"34\":[3.0,4.0],\"35\":[3.0,5.0],\"36\":[3.0,6.0],\"37\":[3.0,7.0],\"38\":[3.0,8.0],\"39\":[3.0,9.0],\"4\":[0.0,4.0],\"40\":[4.0,0.0],\"41\":[4.0,1.0],\"42\":[4.0,2.0],\"43\":[4.0,3.0],\"44\":[4.0,4.0],\"45\":[4.0,5.0],\"46\":[4.0,6.0],\"47\":[4.0,7.0],\"48\":[4.0,8.0],\"49\":[4.0,9.0],\"5\":[0.0,5.0],\"50\":[5.0,0.0],\"51\":[5.0,1.0],\"52\":[5.0,2.0],\"53\":[5.0,3.0],\"54\":[5.0,4.0],\"55\":[5.0,5.0],\"56\":[5.0,6.0],\"57\":[5.0,7.0],\"58\":[5.0,8.0],\"59\":[5.0,9.0],\"6\":[0.0,6.0],\"60\":[6.0,0.0],\"61\":[6.0,1.0],\"62\":[6.0,2.0],\"63\":[6.0,3.0],\"64\":[6.0,4.0],\"65\":[6.0,5.0],\"66\":[6.0,6.0],\"67\":[6.0,7.0],\"68\":[6.0,8.0],\"69\":[6.0,9.0],\"7\":[0.0,7.0],\"70\":[7.0,0.0],\"71\":[7.0,1.0],\"72\":[7.0,2.0],\"73\":[7.0,3.0],\"74\":[7.0,4.0],\"75\":[7.0,5.0],\"76\":[7.0,6.0],\"77\":[7.0,7.0],\"78\":[7.0,8.0],\"79\":[7.0,9.0],\"8\":[0.0,8.0],\"80\":[8.0,0.0],\"81\":[8.0,1.0],\"82\":[8.0,2.0],\"83\":[8.0,3.0],\"84\":[8.0,4.0],\"85\":[8.0,5.0],\"86\":[8.0,6.0],\"87\":[8.0,7.0],\"88\":[8.0,8.0],\"89\":[8.0,9.0],\"9\":[0.0,9.0],\"90\":[9.0,0.0],\"91\":[9.0,1.0],\"92\":[9.0,2.0],\"93\":[9.0,3.0],\"94\":[9.0,4.0],\"95\":[9.0,5.0],\"96\":[9.0,6.0],\"97\":[9.0,7.0],\"98\":[9.0,8.0],\"99\":[9.0,9.0]}},\"id\":\"1565\",\"type\":\"StaticLayoutProvider\"},{\"attributes\":{\"data_source\":{\"id\":\"1563\",\"type\":\"ColumnDataSource\"},\"glyph\":{\"id\":\"1566\",\"type\":\"Circle\"},\"hover_glyph\":{\"id\":\"1568\",\"type\":\"Circle\"},\"muted_glyph\":null,\"nonselection_glyph\":{\"id\":\"1567\",\"type\":\"Circle\"},\"selection_glyph\":null,\"view\":{\"id\":\"1570\",\"type\":\"CDSView\"}},\"id\":\"1569\",\"type\":\"GlyphRenderer\"},{\"attributes\":{},\"id\":\"1601\",\"type\":\"Selection\"},{\"attributes\":{\"fill_alpha\":{\"value\":0.5},\"fill_color\":{\"value\":\"lightgrey\"},\"level\":\"overlay\",\"line_alpha\":{\"value\":1.0},\"line_color\":{\"value\":\"black\"},\"line_dash\":[4,4],\"line_width\":{\"value\":2},\"plot\":null,\"xs_units\":\"screen\",\"ys_units\":\"screen\"},\"id\":\"1557\",\"type\":\"PolyAnnotation\"},{\"attributes\":{\"callback\":null,\"data\":{\"index\":{\"__ndarray__\":\"AAAAAAEAAAACAAAAAwAAAAQAAAAFAAAABgAAAAcAAAAIAAAACQAAAAoAAAALAAAADAAAAA0AAAAOAAAADwAAABAAAAARAAAAEgAAABMAAAAUAAAAFQAAABYAAAAXAAAAGAAAABkAAAAaAAAAGwAAABwAAAAdAAAAHgAAAB8AAAAgAAAAIQAAACIAAAAjAAAAJAAAACUAAAAmAAAAJwAAACgAAAApAAAAKgAAACsAAAAsAAAALQAAAC4AAAAvAAAAMAAAADEAAAAyAAAAMwAAADQAAAA1AAAANgAAADcAAAA4AAAAOQAAADoAAAA7AAAAPAAAAD0AAAA+AAAAPwAAAEAAAABBAAAAQgAAAEMAAABEAAAARQAAAEYAAABHAAAASAAAAEkAAABKAAAASwAAAEwAAABNAAAATgAAAE8AAABQAAAAUQAAAFIAAABTAAAAVAAAAFUAAABWAAAAVwAAAFgAAABZAAAAWgAAAFsAAABcAAAAXQAAAF4AAABfAAAAYAAAAGEAAABiAAAAYwAAAA==\",\"dtype\":\"int32\",\"shape\":[100]},\"index_str__\":[\"0\",\"1\",\"2\",\"3\",\"4\",\"5\",\"6\",\"7\",\"8\",\"9\",\"10\",\"11\",\"12\",\"13\",\"14\",\"15\",\"16\",\"17\",\"18\",\"19\",\"20\",\"21\",\"22\",\"23\",\"24\",\"25\",\"26\",\"27\",\"28\",\"29\",\"30\",\"31\",\"32\",\"33\",\"34\",\"35\",\"36\",\"37\",\"38\",\"39\",\"40\",\"41\",\"42\",\"43\",\"44\",\"45\",\"46\",\"47\",\"48\",\"49\",\"50\",\"51\",\"52\",\"53\",\"54\",\"55\",\"56\",\"57\",\"58\",\"59\",\"60\",\"61\",\"62\",\"63\",\"64\",\"65\",\"66\",\"67\",\"68\",\"69\",\"70\",\"71\",\"72\",\"73\",\"74\",\"75\",\"76\",\"77\",\"78\",\"79\",\"80\",\"81\",\"82\",\"83\",\"84\",\"85\",\"86\",\"87\",\"88\",\"89\",\"90\",\"91\",\"92\",\"93\",\"94\",\"95\",\"96\",\"97\",\"98\",\"99\"]},\"selected\":{\"id\":\"1603\",\"type\":\"Selection\"},\"selection_policy\":{\"id\":\"1604\",\"type\":\"UnionRenderers\"}},\"id\":\"1563\",\"type\":\"ColumnDataSource\"},{\"attributes\":{\"bottom_units\":\"screen\",\"fill_alpha\":{\"value\":0.5},\"fill_color\":{\"value\":\"lightgrey\"},\"left_units\":\"screen\",\"level\":\"overlay\",\"line_alpha\":{\"value\":1.0},\"line_color\":{\"value\":\"black\"},\"line_dash\":[4,4],\"line_width\":{\"value\":2},\"plot\":null,\"render_mode\":\"css\",\"right_units\":\"screen\",\"top_units\":\"screen\"},\"id\":\"1550\",\"type\":\"BoxAnnotation\"},{\"attributes\":{\"callback\":null,\"end\":13.5,\"reset_end\":13.5,\"reset_start\":-4.5,\"start\":-4.5,\"tags\":[[[\"x\",\"x\",null]]]},\"id\":\"1518\",\"type\":\"Range1d\"},{\"attributes\":{\"callback\":null,\"data\":{\"end\":[],\"start\":[]},\"selected\":{\"id\":\"1601\",\"type\":\"Selection\"},\"selection_policy\":{\"id\":\"1602\",\"type\":\"UnionRenderers\"}},\"id\":\"1564\",\"type\":\"ColumnDataSource\"},{\"attributes\":{\"callback\":null,\"end\":13.5,\"reset_end\":13.5,\"reset_start\":-4.5,\"start\":-4.5,\"tags\":[[[\"y\",\"y\",null]]]},\"id\":\"1519\",\"type\":\"Range1d\"},{\"attributes\":{},\"id\":\"1603\",\"type\":\"Selection\"},{\"attributes\":{\"callback\":null,\"overlay\":{\"id\":\"1554\",\"type\":\"BoxAnnotation\"}},\"id\":\"1544\",\"type\":\"BoxSelectTool\"},{\"attributes\":{\"axis_label\":\"y\",\"bounds\":\"auto\",\"formatter\":{\"id\":\"1592\",\"type\":\"BasicTickFormatter\"},\"major_label_orientation\":\"horizontal\",\"plot\":{\"id\":\"1521\",\"subtype\":\"Figure\",\"type\":\"Plot\"},\"ticker\":{\"id\":\"1535\",\"type\":\"BasicTicker\"},\"visible\":false},\"id\":\"1534\",\"type\":\"LinearAxis\"},{\"attributes\":{},\"id\":\"1539\",\"type\":\"SaveTool\"},{\"attributes\":{},\"id\":\"1535\",\"type\":\"BasicTicker\"},{\"attributes\":{\"fill_color\":{\"field\":\"index_str__\",\"transform\":{\"id\":\"1562\",\"type\":\"CategoricalColorMapper\"}},\"size\":{\"units\":\"screen\",\"value\":15}},\"id\":\"1566\",\"type\":\"Circle\"},{\"attributes\":{\"callback\":null},\"id\":\"1546\",\"type\":\"TapTool\"},{\"attributes\":{\"fill_alpha\":{\"value\":0.2},\"fill_color\":{\"field\":\"index_str__\",\"transform\":{\"id\":\"1562\",\"type\":\"CategoricalColorMapper\"}},\"line_alpha\":{\"value\":0.2},\"size\":{\"units\":\"screen\",\"value\":15}},\"id\":\"1567\",\"type\":\"Circle\"},{\"attributes\":{\"fill_color\":{\"value\":\"limegreen\"},\"size\":{\"units\":\"screen\",\"value\":15}},\"id\":\"1568\",\"type\":\"Circle\"},{\"attributes\":{\"axis_label\":\"x\",\"bounds\":\"auto\",\"formatter\":{\"id\":\"1590\",\"type\":\"BasicTickFormatter\"},\"major_label_orientation\":\"horizontal\",\"plot\":{\"id\":\"1521\",\"subtype\":\"Figure\",\"type\":\"Plot\"},\"ticker\":{\"id\":\"1530\",\"type\":\"BasicTicker\"},\"visible\":false},\"id\":\"1529\",\"type\":\"LinearAxis\"},{\"attributes\":{\"active_drag\":\"auto\",\"active_inspect\":\"auto\",\"active_multi\":null,\"active_scroll\":\"auto\",\"active_tap\":\"auto\",\"tools\":[{\"id\":\"1539\",\"type\":\"SaveTool\"},{\"id\":\"1540\",\"type\":\"PanTool\"},{\"id\":\"1541\",\"type\":\"WheelZoomTool\"},{\"id\":\"1542\",\"type\":\"BoxZoomTool\"},{\"id\":\"1543\",\"type\":\"ResetTool\"},{\"id\":\"1544\",\"type\":\"BoxSelectTool\"},{\"id\":\"1545\",\"type\":\"LassoSelectTool\"},{\"id\":\"1546\",\"type\":\"TapTool\"}]},\"id\":\"1547\",\"type\":\"Toolbar\"},{\"attributes\":{\"source\":{\"id\":\"1563\",\"type\":\"ColumnDataSource\"}},\"id\":\"1570\",\"type\":\"CDSView\"}],\"root_ids\":[\"1521\"]},\"title\":\"Bokeh Application\",\"version\":\"1.0.3\"}};\n",
       "  var render_items = [{\"docid\":\"a20ff2a0-49c5-4c9d-9bff-c1e3af9bb315\",\"roots\":{\"1521\":\"e58a1ab1-33e3-426b-9d0a-0281138c6d77\"}}];\n",
       "  root.Bokeh.embed.embed_items_notebook(docs_json, render_items);\n",
       "\n",
       "  }\n",
       "  if (root.Bokeh !== undefined) {\n",
       "    embed_document(root);\n",
       "  } else {\n",
       "    var attempts = 0;\n",
       "    var timer = setInterval(function(root) {\n",
       "      if (root.Bokeh !== undefined) {\n",
       "        embed_document(root);\n",
       "        clearInterval(timer);\n",
       "      }\n",
       "      attempts++;\n",
       "      if (attempts > 100) {\n",
       "        console.log(\"Bokeh: ERROR: Unable to run BokehJS code because BokehJS library is missing\");\n",
       "        clearInterval(timer);\n",
       "      }\n",
       "    }, 10, root)\n",
       "  }\n",
       "})(window);\n",
       "\n",
       "    function msg_handler(msg) {\n",
       "      var metadata = msg.metadata;\n",
       "      var buffers = msg.buffers;\n",
       "      var msg = msg.content.data;\n",
       "      if ((metadata.msg_type == \"Ready\")) {\n",
       "        if (metadata.content) {\n",
       "          console.log(\"Python callback returned following output:\", metadata.content);\n",
       "        }\n",
       "      } else if (metadata.msg_type == \"Error\") {\n",
       "        console.log(\"Python failed with the following traceback:\", metadata.traceback)\n",
       "      } else {\n",
       "        \n",
       "var plot_id = \"1521\";\n",
       "if (plot_id in window.PyViz.plot_index) {\n",
       "  var plot = window.PyViz.plot_index[plot_id];\n",
       "} else {\n",
       "  var plot = Bokeh.index[plot_id];\n",
       "}\n",
       "\n",
       "if (plot_id in window.PyViz.receivers) {\n",
       "  var receiver = window.PyViz.receivers[plot_id];\n",
       "} else if (Bokeh.protocol === undefined) {\n",
       "  return;\n",
       "} else {\n",
       "  var receiver = new Bokeh.protocol.Receiver();\n",
       "  window.PyViz.receivers[plot_id] = receiver;\n",
       "}\n",
       "\n",
       "if ((buffers != undefined) && (buffers.length > 0)) {\n",
       "  receiver.consume(buffers[0].buffer)\n",
       "} else {\n",
       "  receiver.consume(msg)\n",
       "}\n",
       "\n",
       "const comm_msg = receiver.message;\n",
       "if ((comm_msg != null) && (Object.keys(comm_msg.content).length > 0)) {\n",
       "  plot.model.document.apply_json_patch(comm_msg.content, comm_msg.buffers)\n",
       "}\n",
       "\n",
       "      }\n",
       "    }\n",
       "    if ((window.PyViz == undefined) || (!window.PyViz.comm_manager)) {\n",
       "      console.log(\"Could not find comm manager\")\n",
       "    } else {\n",
       "      window.PyViz.comm_manager.register_target('1521', '3a8eda301de0445ca3cdf6b7f4c33333', msg_handler);\n",
       "    }\n",
       "    "
      ],
      "application/vnd.holoviews_exec.v0+json": "",
      "text/html": [
       "<div id='1521' style='display: table; margin: 0 auto;'>\n",
       "    <div id=\"fig_1521\">\n",
       "      \n",
       "\n",
       "\n",
       "\n",
       "\n",
       "\n",
       "  <div class=\"bk-root\" id=\"e58a1ab1-33e3-426b-9d0a-0281138c6d77\" data-root-id=\"1521\"></div>\n",
       "\n",
       "    </div>\n",
       "    </div>"
      ],
      "text/plain": [
       ":DynamicMap   []\n",
       "   :Graph   [start,end]"
      ]
     },
     "execution_count": 6,
     "metadata": {
      "application/vnd.holoviews_exec.v0+json": {
       "id": "1521"
      }
     },
     "output_type": "execute_result"
    }
   ],
   "source": [
    "inc.show()"
   ]
  },
  {
   "cell_type": "markdown",
   "metadata": {},
   "source": [
    "Show the view and now, animation can be started.  \n",
    "Use the Start button to start the animation, stop to pause it and reset to reset.  \n",
    "Animation speed can also be adjusted with the slider.  \n",
    "Current window shows which window is currently loaded.  \n",
    "When repeat is activated, current window will load the very first window again after having loaded the last window.  "
   ]
  },
  {
   "cell_type": "code",
   "execution_count": null,
   "metadata": {},
   "outputs": [],
   "source": []
  }
 ],
 "metadata": {
  "kernelspec": {
   "display_name": "Python 3",
   "language": "python",
   "name": "python3"
  },
  "language_info": {
   "codemirror_mode": {
    "name": "ipython",
    "version": 3
   },
   "file_extension": ".py",
   "mimetype": "text/x-python",
   "name": "python",
   "nbconvert_exporter": "python",
   "pygments_lexer": "ipython3",
   "version": "3.6.8"
  }
 },
 "nbformat": 4,
 "nbformat_minor": 2
}
